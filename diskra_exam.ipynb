{
 "metadata": {
  "language_info": {
   "codemirror_mode": {
    "name": "ipython",
    "version": 3
   },
   "file_extension": ".py",
   "mimetype": "text/x-python",
   "name": "python",
   "nbconvert_exporter": "python",
   "pygments_lexer": "ipython3",
   "version": "3.8.1-final"
  },
  "orig_nbformat": 2,
  "kernelspec": {
   "name": "python38164bite8a6b287b6194c8d82a0d7c4f7af531c",
   "display_name": "Python 3.8.1 64-bit"
  }
 },
 "nbformat": 4,
 "nbformat_minor": 2,
 "cells": [
  {
   "cell_type": "markdown",
   "metadata": {},
   "source": [
    "## 1 задачи выбора"
   ]
  },
  {
   "cell_type": "markdown",
   "metadata": {},
   "source": [
    "### количестова чисел"
   ]
  },
  {
   "cell_type": "code",
   "execution_count": 2,
   "metadata": {},
   "outputs": [],
   "source": [
    "from itertools import product, combinations\n",
    "from collections import Counter\n",
    "from math import factorial, comb"
   ]
  },
  {
   "cell_type": "code",
   "execution_count": 11,
   "metadata": {},
   "outputs": [],
   "source": [
    "def chisla(target_even_count, target_odd_count, must_have = []):\n",
    "    result = 0\n",
    "    target_even_count = sorted(target_even_count)\n",
    "    target_odd_count = sorted(target_odd_count)\n",
    "    must_have = set(must_have)\n",
    "    assert sum(target_even_count) + sum(target_odd_count) == 6, \"SUKA\"\n",
    "\n",
    "    for digits in product(range(1,10), repeat=6):\n",
    "        if not must_have.issubset(set(digits)):\n",
    "            continue\n",
    "        even = [digit for digit in digits if digit %2 == 0]\n",
    "        odd = [digit for digit in digits if digit %2 != 0]\n",
    "        even_count = sorted(list(Counter(even).values()))\n",
    "        odd_count = sorted(list(Counter(odd).values()))\n",
    "\n",
    "        if odd_count == target_odd_count and even_count == target_even_count:\n",
    "            result += 1\n",
    "            # print(''.join(map(str,digits)))\n",
    "    return result"
   ]
  },
  {
   "cell_type": "code",
   "execution_count": 18,
   "metadata": {
    "tags": []
   },
   "outputs": [
    {
     "output_type": "stream",
     "name": "stdout",
     "text": "9720\n"
    },
    {
     "output_type": "execute_result",
     "data": {
      "text/plain": "9720.0"
     },
     "metadata": {},
     "execution_count": 18
    }
   ],
   "source": [
    "res = chisla([1,1],[2,1,1],[2,1,3])\n",
    "print(res)\n",
    "(comb(3,1)*comb(3,1)*3*factorial(6))/(factorial(2))"
   ]
  },
  {
   "cell_type": "code",
   "execution_count": 17,
   "metadata": {
    "tags": []
   },
   "outputs": [
    {
     "output_type": "stream",
     "name": "stdout",
     "text": "17280\n"
    },
    {
     "output_type": "execute_result",
     "data": {
      "text/plain": "17280.0"
     },
     "metadata": {},
     "execution_count": 17
    }
   ],
   "source": [
    "res = chisla([1,1],[1,1,1,1],[1])\n",
    "print(res)\n",
    "(comb(4,2)*comb(4,3)*factorial(6))/(factorial(1))"
   ]
  },
  {
   "cell_type": "code",
   "execution_count": 16,
   "metadata": {
    "tags": []
   },
   "outputs": [
    {
     "output_type": "stream",
     "name": "stdout",
     "text": "7200\n"
    },
    {
     "output_type": "execute_result",
     "data": {
      "text/plain": "7200.0"
     },
     "metadata": {},
     "execution_count": 16
    }
   ],
   "source": [
    "res = chisla([3,1],[1,1],[2])\n",
    "print(res)\n",
    "(comb(3,1)*2*comb(5,2)*factorial(6))/(factorial(3))"
   ]
  },
  {
   "cell_type": "code",
   "execution_count": 15,
   "metadata": {
    "tags": []
   },
   "outputs": [
    {
     "output_type": "stream",
     "name": "stdout",
     "text": "21600\n"
    },
    {
     "output_type": "execute_result",
     "data": {
      "text/plain": "21600.0"
     },
     "metadata": {},
     "execution_count": 15
    }
   ],
   "source": [
    "res = chisla([2],[2,1,1])\n",
    "print(res)\n",
    "(comb(4,1)*comb(5,3)*3*factorial(6))/(2*2)"
   ]
  },
  {
   "cell_type": "code",
   "execution_count": 14,
   "metadata": {
    "tags": []
   },
   "outputs": [
    {
     "output_type": "stream",
     "name": "stdout",
     "text": "300\n"
    },
    {
     "output_type": "execute_result",
     "data": {
      "text/plain": "300.0"
     },
     "metadata": {},
     "execution_count": 14
    }
   ],
   "source": [
    "res = chisla([4],[2])\n",
    "print(res)\n",
    "(4*5*factorial(6))/(factorial(4)*factorial(2))"
   ]
  },
  {
   "cell_type": "markdown",
   "metadata": {},
   "source": [
    "### прямоугольники"
   ]
  },
  {
   "cell_type": "code",
   "execution_count": 22,
   "metadata": {},
   "outputs": [],
   "source": [
    "import numpy as np"
   ]
  },
  {
   "cell_type": "code",
   "execution_count": 97,
   "metadata": {
    "tags": []
   },
   "outputs": [],
   "source": [
    "def priamog(shape, row_target_sum, column_target_sum):\n",
    "\n",
    "    l = shape[0]*shape[1]\n",
    "    rows = np.zeros(shape=shape[0],dtype='int')\n",
    "    rows[-len(row_target_sum):] = np.sort(row_target_sum)\n",
    "    columns = np.zeros(shape=shape[1],dtype='int')\n",
    "    columns[-len(column_target_sum):] = np.sort(column_target_sum)\n",
    "    assert sum(rows)==sum(columns)\n",
    "\n",
    "    grids = np.array(list(product([0, 1], repeat=l)))\n",
    "    result = 0\n",
    "    for grid in grids:\n",
    "        grid = grid.reshape(shape)\n",
    "        row_sum = np.sort(grid.sum(axis=1))\n",
    "        column_sum = np.sort(grid.sum(axis=0))\n",
    "        if np.all(row_sum == rows) and np.all(column_sum == columns):\n",
    "            # print(grid)\n",
    "            result += 1\n",
    "    return result"
   ]
  },
  {
   "cell_type": "code",
   "execution_count": 96,
   "metadata": {},
   "outputs": [
    {
     "output_type": "execute_result",
     "data": {
      "text/plain": "30"
     },
     "metadata": {},
     "execution_count": 96
    }
   ],
   "source": [
    "priamog((3,5),[4,1],[1,1,1,1,1])\n",
    "3*5*2"
   ]
  },
  {
   "cell_type": "code",
   "execution_count": 98,
   "metadata": {},
   "outputs": [
    {
     "output_type": "execute_result",
     "data": {
      "text/plain": "48"
     },
     "metadata": {},
     "execution_count": 98
    }
   ],
   "source": [
    "priamog((4,4),[3,1],[1,1,1,1])"
   ]
  },
  {
   "cell_type": "markdown",
   "metadata": {},
   "source": [
    "### карты"
   ]
  },
  {
   "cell_type": "code",
   "execution_count": 324,
   "metadata": {},
   "outputs": [],
   "source": [
    "values = ['A'] + list(map(str,range(2,11))) + ['В', 'Д', 'К']\n",
    "masti = ['пики','трефы','черви', 'буби']\n",
    "cards = list(product(values, masti))"
   ]
  },
  {
   "cell_type": "code",
   "execution_count": 315,
   "metadata": {
    "tags": []
   },
   "outputs": [
    {
     "output_type": "execute_result",
     "data": {
      "text/plain": "463320"
     },
     "metadata": {},
     "execution_count": 315
    }
   ],
   "source": [
    "target_masti = sorted([2,2,1])\n",
    "target_values = sorted([1,1,1,1,1])\n",
    "assert sum(target_masti) == sum(target_values)\n",
    "must_have_masti = []\n",
    "must_have_values = []\n",
    "result = 0\n",
    "for hand in combinations(cards,r=sum(target_masti)):\n",
    "    hand_masti = [card[1] for card in hand]\n",
    "    hand_values = [card[0] for card in hand]\n",
    "    if not set(must_have_masti).issubset(set(hand_masti)):\n",
    "        continue\n",
    "    if not set(must_have_values).issubset(set(hand_values)):\n",
    "        continue\n",
    "    hand_masti_count = sorted(list(Counter(hand_masti).values()))\n",
    "    hand_values_count = sorted(list(Counter(hand_values).values()))\n",
    "    if hand_masti_count == target_masti and hand_values_count==target_values:\n",
    "\n",
    "        result += 1\n",
    "result"
   ]
  },
  {
   "cell_type": "code",
   "execution_count": 340,
   "metadata": {},
   "outputs": [
    {
     "output_type": "execute_result",
     "data": {
      "text/plain": "463320"
     },
     "metadata": {},
     "execution_count": 340
    }
   ],
   "source": [
    "comb(13,5)*4*comb(5,2)*comb(3,2)*3"
   ]
  },
  {
   "cell_type": "markdown",
   "metadata": {},
   "source": [
    "## 3. числа каталана"
   ]
  },
  {
   "cell_type": "code",
   "execution_count": 17,
   "metadata": {
    "tags": []
   },
   "outputs": [],
   "source": [
    "class BstNode:\n",
    "\n",
    "    def __init__(self, key=0):\n",
    "        self.key = key\n",
    "        self.right = None\n",
    "        self.left = None\n",
    "        self.parent = None\n",
    "\n",
    "    def kek(self):\n",
    "        self.left = BstNode()\n",
    "        self.left.parent = self\n",
    "        self.right = BstNode()\n",
    "        self.right.parent = self\n",
    "        return self.left\n",
    "\n",
    "    def get_right_brat(self):\n",
    "        i = self\n",
    "        if i.parent == None:\n",
    "            return i.right\n",
    "        if i.parent.left is i:\n",
    "            return i.parent.right\n",
    "        return i.parent.get_right_brat()\n",
    "\n",
    "    def display(self):\n",
    "        lines, *_ = self._display_aux()\n",
    "        for line in lines:\n",
    "            line = '.'+line\n",
    "            print(line)\n",
    "\n",
    "    def _display_aux(self):\n",
    "        \"\"\"Returns list of strings, width, height, and horizontal coordinate of the root.\"\"\"\n",
    "        # No child.\n",
    "        if self.right is None and self.left is None:\n",
    "            line = '%s' % self.key\n",
    "            width = len(line)\n",
    "            height = 1\n",
    "            middle = width // 2\n",
    "            return [line], width, height, middle\n",
    "\n",
    "        # Only left child.\n",
    "        if self.right is None:\n",
    "            lines, n, p, x = self.left._display_aux()\n",
    "            s = '%s' % self.key\n",
    "            u = len(s)\n",
    "            first_line = (x + 1) * ' ' + (n - x - 1) * '_' + s\n",
    "            second_line = x * ' ' + '/' + (n - x - 1 + u) * ' '\n",
    "            shifted_lines = [line + u * ' ' for line in lines]\n",
    "            return [first_line, second_line] + shifted_lines, n + u, p + 2, n + u // 2\n",
    "\n",
    "        # Only right child.\n",
    "        if self.left is None:\n",
    "            lines, n, p, x = self.right._display_aux()\n",
    "            s = '%s' % self.key\n",
    "            u = len(s)\n",
    "            first_line = s + x * '_' + (n - x) * ' '\n",
    "            second_line = (u + x) * ' ' + '\\\\' + (n - x - 1) * ' '\n",
    "            shifted_lines = [u * ' ' + line for line in lines]\n",
    "            return [first_line, second_line] + shifted_lines, n + u, p + 2, u // 2\n",
    "\n",
    "        # Two children.\n",
    "        left, n, p, x = self.left._display_aux()\n",
    "        right, m, q, y = self.right._display_aux()\n",
    "        s = '%s' % self.key\n",
    "        u = len(s)\n",
    "        first_line = (x + 1) * ' ' + (n - x - 1) * '_' + s + y * '_' + (m - y) * ' '\n",
    "        second_line = x * ' ' + '/' + (n - x - 1 + u + y) * ' ' + '\\\\' + (m - y - 1) * ' '\n",
    "        if p < q:\n",
    "            left += [n * ' '] * (q - p)\n",
    "        elif q < p:\n",
    "            right += [m * ' '] * (p - q)\n",
    "        zipped_lines = zip(left, right)\n",
    "        lines = [first_line, second_line] + [a + u * ' ' + b for a, b in zipped_lines]\n",
    "        return lines, n + m + u, max(p, q) + 2, n + u // 2"
   ]
  },
  {
   "cell_type": "code",
   "execution_count": 18,
   "metadata": {},
   "outputs": [],
   "source": [
    "def naxyu_kocheta(skobki : str):\n",
    "    \"\"\"\n",
    "    в лекциях написано по инвалидски\n",
    "    все просто на самом деле\n",
    "    вначале мы ставим просто одну точку(ноду)\n",
    "    потом идем по скобкам\n",
    "    скобка открыается - делаем раздвоение из ноды в которой \n",
    "    мы находимся и переходим в левого потомка\n",
    "    скобка закрывается - переходим вправо до ближайшей ноды(назовем ее братом даже если она находится выше нашего текущего положения) \n",
    "    все блять и никаких разделений\n",
    "    \"\"\"\n",
    "    skobki = skobki[1:]\n",
    "    root = BstNode()\n",
    "    a = root.kek()\n",
    "    for skobka in skobki:\n",
    "        if skobka == '(':\n",
    "            a = a.kek()\n",
    "        else:\n",
    "            a = a.get_right_brat()\n",
    "    root.display()"
   ]
  },
  {
   "cell_type": "code",
   "execution_count": 19,
   "metadata": {
    "tags": []
   },
   "outputs": [
    {
     "output_type": "stream",
     "name": "stdout",
     "text": ". 0_______    \n./        \\   \n.0       _0_  \n.       /   \\ \n.      _0   0 \n.     /  \\ / \\\n.    _0  0 0 0\n.   /  \\      \n.   0  0      \n.  / \\        \n.  0 0        \n"
    }
   ],
   "source": [
    "naxyu_kocheta('()(((())))()')"
   ]
  },
  {
   "cell_type": "markdown",
   "metadata": {},
   "source": [
    "## количество решений"
   ]
  },
  {
   "cell_type": "code",
   "execution_count": 9,
   "metadata": {
    "tags": []
   },
   "outputs": [
    {
     "output_type": "execute_result",
     "data": {
      "text/plain": "[2, 3, 4]"
     },
     "metadata": {},
     "execution_count": 9
    }
   ],
   "source": [
    "ans = []\n",
    "n = 7\n",
    "for k in range(2, 8):\n",
    "    sol_count = 0\n",
    "    for xs in product(range(10), repeat=k):\n",
    "        if sum(xs) == n:\n",
    "            sol_count += 1\n",
    "    if sol_count < 150:\n",
    "        ans.append(k)\n",
    "ans"
   ]
  },
  {
   "cell_type": "code",
   "execution_count": 15,
   "metadata": {},
   "outputs": [
    {
     "output_type": "execute_result",
     "data": {
      "text/plain": "2520.0"
     },
     "metadata": {},
     "execution_count": 15
    }
   ],
   "source": [
    "factorial(7)/2"
   ]
  },
  {
   "cell_type": "code",
   "execution_count": null,
   "metadata": {},
   "outputs": [],
   "source": []
  }
 ]
}