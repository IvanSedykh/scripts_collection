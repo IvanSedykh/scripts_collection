{
 "cells": [
  {
   "cell_type": "markdown",
   "metadata": {},
   "source": [
    "# 3 контрольная по дискретной математике\n",
    "чето там про графы"
   ]
  },
  {
   "cell_type": "markdown",
   "metadata": {},
   "source": [
    "## теорма Эрдеша- Галлаи  \n",
    "разбиение $(d_1,..,d_n), d_1+..+d_n=2k$ - графическое в том и только том случае,когда:  \n",
    "$$\\sum_{i=1}^r d_i \\le r(r-1) + \\sum_{i=r+1}^{n} \\min{(r,d_i)}$$ \n",
    "для всех $r \\in [1,n-1]$ .  \n",
    "$\\sum_{i=r+1}^{n} \\min{(r,d_i)}$ обозначим за `tmp`"
   ]
  },
  {
   "cell_type": "code",
   "execution_count": 35,
   "metadata": {},
   "outputs": [
    {
     "output_type": "stream",
     "name": "stdout",
     "text": "summa chetnaya-OK\nr=1 : ok\nr=2 : ok\nr=3 : ok\nr=4 : ok\nr=5 : ok\nr=6 : ok\nr=7 : ok\nr=8 : ok\nr=9 : ok\nr=10 : ok\nr=11 : ok\nr=12 : ok\nr=13 : ok\n"
    }
   ],
   "source": [
    "# d = [5,5,3,3,2,2,2]\n",
    "d = [3,3,3,1]\n",
    "# d = [4,4,3,3,2,2,1,1]\n",
    "# d = [7,6,3,3,2,2,1,1]\n",
    "d= [5,5,4,4,4,3,3,3,3,2,2,2,1,1]\n",
    "d = sorted(d, reverse=True)\n",
    "n = len(d)\n",
    "\n",
    "if sum(d)%2==0:\n",
    "    print('summa chetnaya-OK')\n",
    "else:\n",
    "    print('summa nechetnaya- NOT OK')\n",
    "\n",
    "for r in range(1,n):\n",
    "    print('r={}'.format(r), end=' : ')\n",
    "    tmp = 0\n",
    "    for i in range(r+1,n+1):\n",
    "        tmp += min(r, d[i-1])\n",
    "\n",
    "    if sum(d[0:r]) <= r*(r-1) + tmp:\n",
    "         print('ok')\n",
    "    else:\n",
    "        print('not ok')\n",
    "\n",
    "d = np.array(d)\n"
   ]
  },
  {
   "cell_type": "markdown",
   "metadata": {},
   "source": [
    "## Алгоритм Гавела — Хакими\n",
    "таким образом строим лесенку  \n",
    "потом идем по ней снизу вверх и добавляя новые вершины строим граф  \n",
    "*примечание:* лесенка строится до тех пор пока не станет простой либо не будет содержать отрицательные чиселки. В простом случае все ок - строим граф, если есть отрицательное число - увы, список валентностей не графический"
   ]
  },
  {
   "cell_type": "code",
   "execution_count": 79,
   "metadata": {},
   "outputs": [
    {
     "output_type": "stream",
     "name": "stdout",
     "text": "[4 4 3 3 2 2 1 1]\n[3 2 2 2 1 1 1]\n[1 1 1 1 1 1]\n"
    }
   ],
   "source": [
    "d = [5,5,4,4,4,3,3,3,3,2,2,2,1,1]\n",
    "d = [4,4,3,3,2,2,1,1]\n",
    "d = np.sort(np.array(d))[::-1]\n",
    "print(d)\n",
    "while d[np.where(d<=0)].shape[0]==0 and d[np.where(d<=1)].shape[0]!=d.shape[0] :\n",
    "    mask = np.hstack( (np.ones(d[0]), np.zeros(d[1:].shape[0] - d[0])) ).astype('int')\n",
    "    d = d[1:] - mask \n",
    "    # print(d)\n",
    "    d = np.sort(d)[::-1]\n",
    "    print(d)"
   ]
  },
  {
   "cell_type": "code",
   "execution_count": null,
   "metadata": {},
   "outputs": [],
   "source": []
  }
 ],
 "metadata": {
  "language_info": {
   "codemirror_mode": {
    "name": "ipython",
    "version": 3
   },
   "file_extension": ".py",
   "mimetype": "text/x-python",
   "name": "python",
   "nbconvert_exporter": "python",
   "pygments_lexer": "ipython3",
   "version": "3.8.1-final"
  },
  "orig_nbformat": 2,
  "kernelspec": {
   "name": "python38164bite8a6b287b6194c8d82a0d7c4f7af531c",
   "display_name": "Python 3.8.1 64-bit"
  }
 },
 "nbformat": 4,
 "nbformat_minor": 2
}